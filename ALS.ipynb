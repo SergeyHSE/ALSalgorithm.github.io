{
  "nbformat": 4,
  "nbformat_minor": 0,
  "metadata": {
    "colab": {
      "provenance": [],
      "authorship_tag": "ABX9TyPAUNBBzmYhwYGPrQpEremT",
      "include_colab_link": true
    },
    "kernelspec": {
      "name": "python3",
      "display_name": "Python 3"
    },
    "language_info": {
      "name": "python"
    }
  },
  "cells": [
    {
      "cell_type": "markdown",
      "metadata": {
        "id": "view-in-github",
        "colab_type": "text"
      },
      "source": [
        "<a href=\"https://colab.research.google.com/github/SergeyHSE/ALSalgorithm.github.io/blob/main/ALS.ipynb\" target=\"_parent\"><img src=\"https://colab.research.google.com/assets/colab-badge.svg\" alt=\"Open In Colab\"/></a>"
      ]
    },
    {
      "cell_type": "markdown",
      "source": [
        "In this work, we will find similar movies and users using the ALS algorithm,\n",
        "implement the calculation of the NDCG metric, and investigate\n",
        "the effect of the dimensionality of hidden representations on the performance of the algorithm.\n",
        "\n",
        "Dataset = MovieLens"
      ],
      "metadata": {
        "id": "pIcj4qg0fJFx"
      }
    },
    {
      "cell_type": "code",
      "execution_count": 1,
      "metadata": {
        "id": "k-UR9ONkevBF"
      },
      "outputs": [],
      "source": [
        "import zipfile\n",
        "from collections import defaultdict, Counter\n",
        "import datetime\n",
        "from scipy import linalg\n",
        "import scipy.sparse as sps\n",
        "import numpy as np\n",
        "import matplotlib.pyplot as plt"
      ]
    },
    {
      "cell_type": "code",
      "source": [
        "!wget http://files.grouplens.org/datasets/movielens/ml-1m.zip"
      ],
      "metadata": {
        "colab": {
          "base_uri": "https://localhost:8080/"
        },
        "id": "0YXz37N-vTQF",
        "outputId": "393eebdd-2c88-4e2a-d858-442617322cf1"
      },
      "execution_count": 2,
      "outputs": [
        {
          "output_type": "stream",
          "name": "stdout",
          "text": [
            "--2023-12-02 14:54:32--  http://files.grouplens.org/datasets/movielens/ml-1m.zip\n",
            "Resolving files.grouplens.org (files.grouplens.org)... 128.101.65.152\n",
            "Connecting to files.grouplens.org (files.grouplens.org)|128.101.65.152|:80... connected.\n",
            "HTTP request sent, awaiting response... 200 OK\n",
            "Length: 5917549 (5.6M) [application/zip]\n",
            "Saving to: ‘ml-1m.zip’\n",
            "\n",
            "ml-1m.zip           100%[===================>]   5.64M  19.5MB/s    in 0.3s    \n",
            "\n",
            "2023-12-02 14:54:33 (19.5 MB/s) - ‘ml-1m.zip’ saved [5917549/5917549]\n",
            "\n"
          ]
        }
      ]
    },
    {
      "cell_type": "code",
      "source": [
        "with zipfile.ZipFile(\"ml-1m.zip\", 'r') as z:\n",
        "    file_content = z.read('ml-1m/README')\n",
        "    decoded_content = file_content.decode('iso-8859-1')  # Decode the content assuming it's in UTF-8\n",
        "\n",
        "    # Replace single newlines with a special token\n",
        "    content_with_token = decoded_content.replace('\\n', '||NEWLINE||')\n",
        "\n",
        "    # Replace double newlines with spaces\n",
        "    formatted_content = ' '.join(para.strip() for para in content_with_token.split('\\n\\n'))\n",
        "\n",
        "    # Restore single newlines\n",
        "    formatted_content = formatted_content.replace('||NEWLINE||', '\\n')\n",
        "\n",
        "    print(formatted_content)"
      ],
      "metadata": {
        "colab": {
          "base_uri": "https://localhost:8080/"
        },
        "id": "oEAn5o3gjY3d",
        "outputId": "296485f1-581b-48a6-8002-cebc5a1d6eb8"
      },
      "execution_count": null,
      "outputs": [
        {
          "output_type": "stream",
          "name": "stdout",
          "text": [
            "SUMMARY\n",
            "================================================================================\n",
            "\n",
            "These files contain 1,000,209 anonymous ratings of approximately 3,900 movies \n",
            "made by 6,040 MovieLens users who joined MovieLens in 2000.\n",
            "\n",
            "USAGE LICENSE\n",
            "================================================================================\n",
            "\n",
            "Neither the University of Minnesota nor any of the researchers\n",
            "involved can guarantee the correctness of the data, its suitability\n",
            "for any particular purpose, or the validity of results based on the\n",
            "use of the data set.  The data set may be used for any research\n",
            "purposes under the following conditions:\n",
            "\n",
            "     * The user may not state or imply any endorsement from the\n",
            "       University of Minnesota or the GroupLens Research Group.\n",
            "\n",
            "     * The user must acknowledge the use of the data set in\n",
            "       publications resulting from the use of the data set\n",
            "       (see below for citation information).\n",
            "\n",
            "     * The user may not redistribute the data without separate\n",
            "       permission.\n",
            "\n",
            "     * The user may not use this information for any commercial or\n",
            "       revenue-bearing purposes without first obtaining permission\n",
            "       from a faculty member of the GroupLens Research Project at the\n",
            "       University of Minnesota.\n",
            "\n",
            "If you have any further questions or comments, please contact GroupLens\n",
            "<grouplens-info@cs.umn.edu>. \n",
            "\n",
            "CITATION\n",
            "================================================================================\n",
            "\n",
            "To acknowledge use of the dataset in publications, please cite the following\n",
            "paper:\n",
            "\n",
            "F. Maxwell Harper and Joseph A. Konstan. 2015. The MovieLens Datasets: History\n",
            "and Context. ACM Transactions on Interactive Intelligent Systems (TiiS) 5, 4,\n",
            "Article 19 (December 2015), 19 pages. DOI=http://dx.doi.org/10.1145/2827872\n",
            "\n",
            "\n",
            "ACKNOWLEDGEMENTS\n",
            "================================================================================\n",
            "\n",
            "Thanks to Shyong Lam and Jon Herlocker for cleaning up and generating the data\n",
            "set.\n",
            "\n",
            "FURTHER INFORMATION ABOUT THE GROUPLENS RESEARCH PROJECT\n",
            "================================================================================\n",
            "\n",
            "The GroupLens Research Project is a research group in the Department of \n",
            "Computer Science and Engineering at the University of Minnesota. Members of \n",
            "the GroupLens Research Project are involved in many research projects related \n",
            "to the fields of information filtering, collaborative filtering, and \n",
            "recommender systems. The project is lead by professors John Riedl and Joseph \n",
            "Konstan. The project began to explore automated collaborative filtering in \n",
            "1992, but is most well known for its world wide trial of an automated \n",
            "collaborative filtering system for Usenet news in 1996. Since then the project \n",
            "has expanded its scope to research overall information filtering solutions, \n",
            "integrating in content-based methods as well as improving current collaborative \n",
            "filtering technology.\n",
            "\n",
            "Further information on the GroupLens Research project, including research \n",
            "publications, can be found at the following web site:\n",
            "        \n",
            "        http://www.grouplens.org/\n",
            "\n",
            "GroupLens Research currently operates a movie recommender based on \n",
            "collaborative filtering:\n",
            "\n",
            "        http://www.movielens.org/\n",
            "\n",
            "RATINGS FILE DESCRIPTION\n",
            "================================================================================\n",
            "\n",
            "All ratings are contained in the file \"ratings.dat\" and are in the\n",
            "following format:\n",
            "\n",
            "UserID::MovieID::Rating::Timestamp\n",
            "\n",
            "- UserIDs range between 1 and 6040 \n",
            "- MovieIDs range between 1 and 3952\n",
            "- Ratings are made on a 5-star scale (whole-star ratings only)\n",
            "- Timestamp is represented in seconds since the epoch as returned by time(2)\n",
            "- Each user has at least 20 ratings\n",
            "\n",
            "USERS FILE DESCRIPTION\n",
            "================================================================================\n",
            "\n",
            "User information is in the file \"users.dat\" and is in the following\n",
            "format:\n",
            "\n",
            "UserID::Gender::Age::Occupation::Zip-code\n",
            "\n",
            "All demographic information is provided voluntarily by the users and is\n",
            "not checked for accuracy.  Only users who have provided some demographic\n",
            "information are included in this data set.\n",
            "\n",
            "- Gender is denoted by a \"M\" for male and \"F\" for female\n",
            "- Age is chosen from the following ranges:\n",
            "\n",
            "\t*  1:  \"Under 18\"\n",
            "\t* 18:  \"18-24\"\n",
            "\t* 25:  \"25-34\"\n",
            "\t* 35:  \"35-44\"\n",
            "\t* 45:  \"45-49\"\n",
            "\t* 50:  \"50-55\"\n",
            "\t* 56:  \"56+\"\n",
            "\n",
            "- Occupation is chosen from the following choices:\n",
            "\n",
            "\t*  0:  \"other\" or not specified\n",
            "\t*  1:  \"academic/educator\"\n",
            "\t*  2:  \"artist\"\n",
            "\t*  3:  \"clerical/admin\"\n",
            "\t*  4:  \"college/grad student\"\n",
            "\t*  5:  \"customer service\"\n",
            "\t*  6:  \"doctor/health care\"\n",
            "\t*  7:  \"executive/managerial\"\n",
            "\t*  8:  \"farmer\"\n",
            "\t*  9:  \"homemaker\"\n",
            "\t* 10:  \"K-12 student\"\n",
            "\t* 11:  \"lawyer\"\n",
            "\t* 12:  \"programmer\"\n",
            "\t* 13:  \"retired\"\n",
            "\t* 14:  \"sales/marketing\"\n",
            "\t* 15:  \"scientist\"\n",
            "\t* 16:  \"self-employed\"\n",
            "\t* 17:  \"technician/engineer\"\n",
            "\t* 18:  \"tradesman/craftsman\"\n",
            "\t* 19:  \"unemployed\"\n",
            "\t* 20:  \"writer\"\n",
            "\n",
            "MOVIES FILE DESCRIPTION\n",
            "================================================================================\n",
            "\n",
            "Movie information is in the file \"movies.dat\" and is in the following\n",
            "format:\n",
            "\n",
            "MovieID::Title::Genres\n",
            "\n",
            "- Titles are identical to titles provided by the IMDB (including\n",
            "year of release)\n",
            "- Genres are pipe-separated and are selected from the following genres:\n",
            "\n",
            "\t* Action\n",
            "\t* Adventure\n",
            "\t* Animation\n",
            "\t* Children's\n",
            "\t* Comedy\n",
            "\t* Crime\n",
            "\t* Documentary\n",
            "\t* Drama\n",
            "\t* Fantasy\n",
            "\t* Film-Noir\n",
            "\t* Horror\n",
            "\t* Musical\n",
            "\t* Mystery\n",
            "\t* Romance\n",
            "\t* Sci-Fi\n",
            "\t* Thriller\n",
            "\t* War\n",
            "\t* Western\n",
            "\n",
            "- Some MovieIDs do not correspond to a movie due to accidental duplicate\n",
            "entries and/or test entries\n",
            "- Movies are mostly entered by hand, so errors and inconsistencies may exist\n",
            "\n"
          ]
        }
      ]
    },
    {
      "cell_type": "code",
      "source": [
        "#Let's unpack the data and see how it's organized.\n",
        "\n",
        "with zipfile.ZipFile(\"ml-1m.zip\", \"r\") as z:\n",
        "    print(\"files in archive\")\n",
        "    print(z.namelist())\n",
        "    print(\"movies\")\n",
        "    with z.open(\"ml-1m/movies.dat\") as m:\n",
        "        print(str(m.readline()).split(\"::\"))\n",
        "    print(\"users\")\n",
        "    with z.open(\"ml-1m/users.dat\") as m:\n",
        "        print(str(m.readline()).split(\"::\"))\n",
        "    print(\"ratings\")\n",
        "    with z.open(\"ml-1m/ratings.dat\") as m:\n",
        "        print(str(m.readline()).split(\"::\"))"
      ],
      "metadata": {
        "colab": {
          "base_uri": "https://localhost:8080/"
        },
        "id": "90ebqoV1fW4G",
        "outputId": "aea0e70d-c940-4f34-b6d1-fc0b6b06e267"
      },
      "execution_count": 3,
      "outputs": [
        {
          "output_type": "stream",
          "name": "stdout",
          "text": [
            "files in archive\n",
            "['ml-1m/', 'ml-1m/movies.dat', 'ml-1m/ratings.dat', 'ml-1m/README', 'ml-1m/users.dat']\n",
            "movies\n",
            "['b\"1', 'Toy Story (1995)', 'Animation|Children\\'s|Comedy\\\\n\"']\n",
            "users\n",
            "[\"b'1\", 'F', '1', '10', \"48067\\\\n'\"]\n",
            "ratings\n",
            "[\"b'1\", '1193', '5', \"978300760\\\\n'\"]\n"
          ]
        }
      ]
    },
    {
      "cell_type": "markdown",
      "source": [
        "We can see that the archive contains information about movies.\n",
        "This is the movieId of the movie, title and genre.\n",
        "About users we know userId, gender (F, M), age, coded employment information and zip-code.\n",
        "And the rating information:\n",
        "userId, movieId, rating and the moment in time when the rating was made.\n",
        "Let's read the data."
      ],
      "metadata": {
        "id": "dLa8mBZxqLDm"
      }
    },
    {
      "cell_type": "code",
      "source": [
        "# read data\n",
        "movies = {} # id\n",
        "users = {} # id\n",
        "ratings = defaultdict(list) # user-id\n",
        "\n",
        "with zipfile.ZipFile(\"ml-1m.zip\", \"r\") as z:\n",
        "    # parse movies\n",
        "    with z.open(\"ml-1m/movies.dat\") as m:\n",
        "        for line in m:\n",
        "            MovieID, Title, Genres = line.decode('iso-8859-1').strip().split(\"::\")\n",
        "            MovieID = int(MovieID)\n",
        "            Genres = Genres.split(\"|\")\n",
        "            movies[MovieID] = {\"Title\": Title, \"Genres\": Genres}\n",
        "\n",
        "    # parse users\n",
        "    with z.open(\"ml-1m/users.dat\") as m:\n",
        "        fields = [\"UserID\", \"Gender\", \"Age\", \"Occupation\", \"Zip-code\"]\n",
        "        for line in m:\n",
        "            row = list(zip(fields, line.decode('iso-8859-1').strip().split(\"::\")))\n",
        "            data = dict(row[1:])\n",
        "            data[\"Occupation\"] = int(data[\"Occupation\"])\n",
        "            users[int(row[0][1])] = data\n",
        "\n",
        "    # parse ratings\n",
        "    with z.open(\"ml-1m/ratings.dat\") as m:\n",
        "        for line in m:\n",
        "            UserID, MovieID, Rating, Timestamp = line.decode('iso-8859-1').strip().split(\"::\")\n",
        "            UserID = int(UserID)\n",
        "            MovieID = int(MovieID)\n",
        "            Rating = int(Rating)\n",
        "            Timestamp = int(Timestamp)\n",
        "            ratings[UserID].append((MovieID, Rating, datetime.datetime.fromtimestamp(Timestamp)))"
      ],
      "metadata": {
        "id": "kG2GJ6eiqajV"
      },
      "execution_count": 4,
      "outputs": []
    },
    {
      "cell_type": "code",
      "source": [
        "len(users), len(ratings), len(movies)"
      ],
      "metadata": {
        "id": "0hERone1uP0f",
        "colab": {
          "base_uri": "https://localhost:8080/"
        },
        "outputId": "e80c64a6-24b2-42c1-ab14-c131b1f586bf"
      },
      "execution_count": 5,
      "outputs": [
        {
          "output_type": "execute_result",
          "data": {
            "text/plain": [
              "(6040, 6040, 3883)"
            ]
          },
          "metadata": {},
          "execution_count": 5
        }
      ]
    },
    {
      "cell_type": "code",
      "source": [
        "times = []\n",
        "for user_ratings in ratings.values():\n",
        "    times.extend([x[2] for x in user_ratings])\n",
        "times = sorted(times)\n",
        "\n",
        "threshold_time = times[int(0.8 * len(times))]\n",
        "threshold_time"
      ],
      "metadata": {
        "colab": {
          "base_uri": "https://localhost:8080/"
        },
        "id": "IpP8UD6SZ4kr",
        "outputId": "dc4039ac-f85e-4c2e-c73f-135869a321fb"
      },
      "execution_count": 6,
      "outputs": [
        {
          "output_type": "execute_result",
          "data": {
            "text/plain": [
              "datetime.datetime(2000, 12, 2, 14, 52, 18)"
            ]
          },
          "metadata": {},
          "execution_count": 6
        }
      ]
    },
    {
      "cell_type": "code",
      "source": [
        "train = []\n",
        "test = []\n",
        "\n",
        "for user_id, user_ratings in ratings.items():\n",
        "    train.extend((user_id, rating[0], rating[1] / 5.0) for rating in user_ratings if rating[2] <= threshold_time)\n",
        "    test.extend((user_id, rating[0], rating[1] / 5.0) for rating in user_ratings if rating[2] > threshold_time)\n",
        "print(\"ratings in train:\", len(train))\n",
        "print(\"ratings in test:\", len(test))"
      ],
      "metadata": {
        "colab": {
          "base_uri": "https://localhost:8080/"
        },
        "id": "SuhTyWqqaFnN",
        "outputId": "607480c6-d753-4831-c5a5-44c146d7b650"
      },
      "execution_count": 7,
      "outputs": [
        {
          "output_type": "stream",
          "name": "stdout",
          "text": [
            "ratings in train: 800168\n",
            "ratings in test: 200041\n"
          ]
        }
      ]
    },
    {
      "cell_type": "code",
      "source": [
        "train_by_user = defaultdict(list)\n",
        "test_by_user = defaultdict(list)\n",
        "for u, i, r in train:\n",
        "    train_by_user[u].append((i, r))\n",
        "for u, i, r in test:\n",
        "    test_by_user[u].append((i, r))\n",
        "\n",
        "train_by_item = defaultdict(list)\n",
        "for u, i, r in train:\n",
        "    train_by_item[i].append((u, r))"
      ],
      "metadata": {
        "id": "du0B5fNpaQ9M"
      },
      "execution_count": 8,
      "outputs": []
    },
    {
      "cell_type": "code",
      "source": [
        "#Let's count the number of users and movies\n",
        "\n",
        "n_users = max([e[0] for e in train]) + 1\n",
        "n_items = max([e[1] for e in train]) + 1\n",
        "n_users, n_items"
      ],
      "metadata": {
        "colab": {
          "base_uri": "https://localhost:8080/"
        },
        "id": "HxKS1muUaVTn",
        "outputId": "16ee72cb-1c16-4355-c55c-dd7d3e20a191"
      },
      "execution_count": 9,
      "outputs": [
        {
          "output_type": "execute_result",
          "data": {
            "text/plain": [
              "(6041, 3953)"
            ]
          },
          "metadata": {},
          "execution_count": 9
        }
      ]
    },
    {
      "cell_type": "code",
      "source": [
        "np.random.seed(0)\n",
        "LATENT_SIZE = 10\n",
        "N_ITER = 20\n",
        "\n",
        "# regularizers\n",
        "lambda_p = 0.2\n",
        "lambda_q = 0.001\n",
        "\n",
        "# latent representations\n",
        "p = 0.1 * np.random.random((n_users, LATENT_SIZE))\n",
        "q = 0.1 * np.random.random((n_items, LATENT_SIZE))\n"
      ],
      "metadata": {
        "id": "eKMvmC_aag1_"
      },
      "execution_count": 10,
      "outputs": []
    },
    {
      "cell_type": "markdown",
      "source": [
        "**ALS**\n",
        "\n",
        "In this approach, the score $r_{ui}$ of user $u$ given to movie $i$,\n",
        "\n",
        "is sought as the scalar product of vectors $p_u$ and $q_i$ in some space $\\mathbb{R}^K$ of latent features:\n",
        "\n",
        "$$\n",
        "\t\\hat{r}_{ui} = p_u^T q_i\n",
        "$$\n",
        "\n",
        "\n",
        "In other words, the model finds a feature space in which we describe both movies and users and in which the rating is a measure of the closeness between movies and users.\n",
        "\n",
        "To tune the model, we will minimize the following error:\n",
        "\t$$\n",
        "\t\\sum_{(u, i, r_{ui})} (r_{ui} - p_u^T q_i)^2 + \\lambda_{p} p_u^T p_u + \\lambda_{q} q_i^T q_i,\n",
        "\t$$\n",
        "\twhere the summation is over all triples $(u, i, r_{ui})$ of the sample, the summands with $\\lambda_{p}$ and $\\lambda_{q}$ are added for regularization.\n",
        "\n",
        "Now let us make a matrix $P$ from vectors $p_u$ and a matrix $Q$ from vectors $q_i$. By matrix $Q[u] \\in \\mathbb{R}^{n_u \\times K}$ we denote the submatrix of matrix $Q$ only for goods evaluated by user $u$, where $n_u$ is the number of evaluations of user $u$.\n",
        "\n",
        "The reconfiguration step $p_u$ for a fixed matrix $Q$ reduces to the ridge regression setup and looks like this:\n",
        "\t$$\n",
        "\tA_u = Q[u]^T Q[u] \\\\\\\\\n",
        "\td_u = Q[u]^T r_u \\\\\\\n",
        "\tp_u = (\\lambda_p n_u I + A_u)^{-1} d_u\n",
        "\t$$\n"
      ],
      "metadata": {
        "id": "WDhdUqRif_17"
      }
    },
    {
      "cell_type": "code",
      "source": [
        "def compute_p(p, q, train_by_user):\n",
        "    for u, rated in train_by_user.items():\n",
        "        rated_items = [i for i, _ in rated]\n",
        "        rated_scores = np.array([r for _, r in rated])\n",
        "        Q = q[rated_items, :]\n",
        "        A = (Q.T).dot(Q)\n",
        "        d = (Q.T).dot(rated_scores)\n",
        "        p[u, :] = np.linalg.solve(lambda_p * len(rated_items) * np.eye(LATENT_SIZE) + A, d)\n",
        "    return p"
      ],
      "metadata": {
        "id": "Mu0SExR9anlt"
      },
      "execution_count": 11,
      "outputs": []
    },
    {
      "cell_type": "code",
      "source": [
        "def compute_q(p, q, train_by_item):\n",
        "    for i, rated in train_by_item.items():\n",
        "        rated_users = [j for j, _ in rated]\n",
        "        rated_scores = np.array([s for _, s in rated])\n",
        "        P = p[rated_users, :]\n",
        "        A = (P.T).dot(P)\n",
        "        d = (P.T).dot(rated_scores)\n",
        "        q[i, :] = np.linalg.solve(lambda_q * len(rated_users) * np.eye(LATENT_SIZE) + A, d)\n",
        "    return q"
      ],
      "metadata": {
        "id": "YCW9s0D8g768"
      },
      "execution_count": 12,
      "outputs": []
    },
    {
      "cell_type": "code",
      "source": [
        "def train_error_mse(predictions):\n",
        "    return np.mean([(predictions[u, i] - r) ** 2 for u, i, r in train])\n",
        "\n",
        "def test_error_mse(predictions):\n",
        "    return np.mean([(predictions[u, i] - r) ** 2 for u, i, r in test])"
      ],
      "metadata": {
        "id": "h3gluz_Tg_ly"
      },
      "execution_count": 13,
      "outputs": []
    },
    {
      "cell_type": "code",
      "source": [
        "for iter in range(N_ITER):\n",
        "    p = compute_p(p, q, train_by_user)\n",
        "    q = compute_q(p, q, train_by_item)\n",
        "\n",
        "    predictions = p.dot(q.T)\n",
        "\n",
        "    print(iter, train_error_mse(predictions), test_error_mse(predictions))"
      ],
      "metadata": {
        "colab": {
          "base_uri": "https://localhost:8080/"
        },
        "id": "BDEXUivUhGOL",
        "outputId": "5240aea4-5544-4c5e-bfdb-b4a5767352c1"
      },
      "execution_count": 14,
      "outputs": [
        {
          "output_type": "stream",
          "name": "stdout",
          "text": [
            "0 0.034254066990950016 0.16161048497212951\n",
            "1 0.030645740984182004 0.15155084906221655\n",
            "2 0.027045334327151088 0.14384734040494065\n",
            "3 0.025813288873051232 0.1369731449899051\n",
            "4 0.025347613143060384 0.13077566964080364\n",
            "5 0.02509638013540347 0.12524794035311057\n",
            "6 0.02493404752684068 0.12031008916560125\n",
            "7 0.02482027996454204 0.11587970123247371\n",
            "8 0.02473748090535384 0.11188957847429643\n",
            "9 0.024677350034760324 0.1082859231790354\n",
            "10 0.024634483994446333 0.10502502426863132\n",
            "11 0.024604361404763415 0.10207014908552949\n",
            "12 0.024583346331205864 0.09938950190571325\n",
            "13 0.024568755099793158 0.09695506282023533\n",
            "14 0.024558698531058874 0.09474199207447921\n",
            "15 0.024551877533063843 0.09272824318660171\n",
            "16 0.02454739123798561 0.09089423607528814\n",
            "17 0.024544605124752126 0.08922255977615293\n",
            "18 0.02454306682449277 0.08769769701279093\n",
            "19 0.024542448316282706 0.08630578168734016\n"
          ]
        }
      ]
    },
    {
      "cell_type": "markdown",
      "source": [
        "**Calculate third movies similared 'Star WAr (1980)**"
      ],
      "metadata": {
        "id": "EnHLTirUhh8K"
      }
    },
    {
      "cell_type": "code",
      "source": [
        "# Search for the movie title in the dictionary\n",
        "search_title = 'Star Wars: Episode V - The Empire Strikes Back (1980)'\n",
        "\n",
        "found_movie = None\n",
        "for movie_id, movie_info in movies.items():\n",
        "    if movie_info['Title'] == search_title:\n",
        "        found_movie = {movie_id: movie_info}\n",
        "\n",
        "print(found_movie)\n"
      ],
      "metadata": {
        "colab": {
          "base_uri": "https://localhost:8080/"
        },
        "id": "gOATH_EZhJow",
        "outputId": "d132bfa1-3f7e-4966-a56d-5f36ede051d7"
      },
      "execution_count": 15,
      "outputs": [
        {
          "output_type": "stream",
          "name": "stdout",
          "text": [
            "{1196: {'Title': 'Star Wars: Episode V - The Empire Strikes Back (1980)', 'Genres': ['Action', 'Adventure', 'Drama', 'Sci-Fi', 'War']}}\n"
          ]
        }
      ]
    },
    {
      "cell_type": "code",
      "source": [
        "p.shape, q.shape"
      ],
      "metadata": {
        "colab": {
          "base_uri": "https://localhost:8080/"
        },
        "id": "OOLjlAEoh9eU",
        "outputId": "6e49bf06-92b9-4158-cf8e-70d6f4d142f8"
      },
      "execution_count": 16,
      "outputs": [
        {
          "output_type": "execute_result",
          "data": {
            "text/plain": [
              "((6041, 10), (3953, 10))"
            ]
          },
          "metadata": {},
          "execution_count": 16
        }
      ]
    },
    {
      "cell_type": "code",
      "source": [
        "#Let's calculate the scalar product of its embedding with the rest of the movie\n",
        "\n",
        "from sklearn.metrics.pairwise import cosine_similarity\n",
        "\n",
        "movie_cos_simiraity = cosine_similarity(q)\n",
        "movie_cos_simiraity.shape"
      ],
      "metadata": {
        "id": "7Q3LyVZ2iFaV",
        "colab": {
          "base_uri": "https://localhost:8080/"
        },
        "outputId": "fdc6b12e-b6c0-4992-a871-566c961e1aa6"
      },
      "execution_count": 17,
      "outputs": [
        {
          "output_type": "execute_result",
          "data": {
            "text/plain": [
              "(3953, 3953)"
            ]
          },
          "metadata": {},
          "execution_count": 17
        }
      ]
    },
    {
      "cell_type": "code",
      "source": [
        "movie_star_war = movie_cos_simiraity[1196]\n",
        "movie_star_sorted = np.argsort(movie_star_war)[::-1]\n",
        "\n",
        "first_movies = 10\n",
        "print(f'Previous {first_movies} movies least similar to Movie {movie_star_war}:')\n",
        "cosine = []\n",
        "for i in range(1, first_movies + 1):\n",
        "    similar_movie_index = movie_star_sorted[i]\n",
        "    similarity = movie_star_war[similar_movie_index]\n",
        "    print(f'Movie {similar_movie_index}: Similarity = {similarity:.4f}')\n",
        "    cosine.append((similarity))\n",
        "\n",
        "answer1 = sum(cosine[:3])\n",
        "print(answer1)"
      ],
      "metadata": {
        "colab": {
          "base_uri": "https://localhost:8080/"
        },
        "id": "U6vTDH_8CEpa",
        "outputId": "73de7deb-090c-41fe-ebce-74aec7260133"
      },
      "execution_count": 18,
      "outputs": [
        {
          "output_type": "stream",
          "name": "stdout",
          "text": [
            "Previous 10 movies least similar to Movie [0.66139005 0.90589833 0.81730857 ... 0.64824627 0.64386052 0.81881035]:\n",
            "Movie 260: Similarity = 0.9967\n",
            "Movie 1210: Similarity = 0.9808\n",
            "Movie 1198: Similarity = 0.9768\n",
            "Movie 1291: Similarity = 0.9709\n",
            "Movie 2716: Similarity = 0.9661\n",
            "Movie 1374: Similarity = 0.9646\n",
            "Movie 3187: Similarity = 0.9597\n",
            "Movie 592: Similarity = 0.9579\n",
            "Movie 1242: Similarity = 0.9466\n",
            "Movie 1197: Similarity = 0.9464\n",
            "2.9543195369287503\n"
          ]
        }
      ]
    },
    {
      "cell_type": "code",
      "source": [
        "#found names all similar movies\n",
        "\n",
        "found_mov = None\n",
        "for movie_id, movie_info in movies.items():\n",
        "    if movie_id == 260:\n",
        "        found_mov = {movie_id: movie_info}\n",
        "        print(found_mov)\n",
        "    elif movie_id == 1210:\n",
        "        found_mov = {movie_id: movie_info}\n",
        "        print(found_mov)\n",
        "    elif movie_id == 1198:\n",
        "        found_mov = {movie_id: movie_info}\n",
        "        print(found_mov)\n",
        "    elif movie_id == 1196:\n",
        "        found_mov = {movie_id: movie_info}\n",
        "        print(found_mov)"
      ],
      "metadata": {
        "colab": {
          "base_uri": "https://localhost:8080/"
        },
        "id": "0qH6fLidCTTc",
        "outputId": "2fb6fc24-e75c-402e-923b-e11a17ee8797"
      },
      "execution_count": 19,
      "outputs": [
        {
          "output_type": "stream",
          "name": "stdout",
          "text": [
            "{260: {'Title': 'Star Wars: Episode IV - A New Hope (1977)', 'Genres': ['Action', 'Adventure', 'Fantasy', 'Sci-Fi']}}\n",
            "{1196: {'Title': 'Star Wars: Episode V - The Empire Strikes Back (1980)', 'Genres': ['Action', 'Adventure', 'Drama', 'Sci-Fi', 'War']}}\n",
            "{1198: {'Title': 'Raiders of the Lost Ark (1981)', 'Genres': ['Action', 'Adventure']}}\n",
            "{1210: {'Title': 'Star Wars: Episode VI - Return of the Jedi (1983)', 'Genres': ['Action', 'Adventure', 'Romance', 'Sci-Fi', 'War']}}\n"
          ]
        }
      ]
    },
    {
      "cell_type": "code",
      "source": [],
      "metadata": {
        "id": "QeKV5KxPCdB8"
      },
      "execution_count": null,
      "outputs": []
    }
  ]
}