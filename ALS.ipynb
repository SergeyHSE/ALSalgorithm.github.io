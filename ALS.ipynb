{
  "nbformat": 4,
  "nbformat_minor": 0,
  "metadata": {
    "colab": {
      "provenance": [],
      "authorship_tag": "ABX9TyP7YmRhRH+YmYy3XI3pviVv",
      "include_colab_link": true
    },
    "kernelspec": {
      "name": "python3",
      "display_name": "Python 3"
    },
    "language_info": {
      "name": "python"
    }
  },
  "cells": [
    {
      "cell_type": "markdown",
      "metadata": {
        "id": "view-in-github",
        "colab_type": "text"
      },
      "source": [
        "<a href=\"https://colab.research.google.com/github/SergeyHSE/ALSalgorithm.github.io/blob/main/ALS.ipynb\" target=\"_parent\"><img src=\"https://colab.research.google.com/assets/colab-badge.svg\" alt=\"Open In Colab\"/></a>"
      ]
    },
    {
      "cell_type": "markdown",
      "source": [
        "In this work, we will find similar movies and users using the ALS algorithm,\n",
        "implement the calculation of the NDCG metric, and investigate\n",
        "the effect of the dimensionality of hidden representations on the performance of the algorithm.\n",
        "\n",
        "Dataset = MovieLens"
      ],
      "metadata": {
        "id": "pIcj4qg0fJFx"
      }
    },
    {
      "cell_type": "code",
      "execution_count": 1,
      "metadata": {
        "id": "k-UR9ONkevBF"
      },
      "outputs": [],
      "source": [
        "import zipfile\n",
        "from collections import defaultdict, Counter\n",
        "import datetime\n",
        "from scipy import linalg\n",
        "import scipy.sparse as sps\n",
        "import numpy as np\n",
        "import matplotlib.pyplot as plt"
      ]
    },
    {
      "cell_type": "code",
      "source": [
        "!wget http://files.grouplens.org/datasets/movielens/ml-1m.zip"
      ],
      "metadata": {
        "colab": {
          "base_uri": "https://localhost:8080/"
        },
        "id": "0YXz37N-vTQF",
        "outputId": "2b705b31-d5f6-4964-89ee-d69a596f730c"
      },
      "execution_count": 2,
      "outputs": [
        {
          "output_type": "stream",
          "name": "stdout",
          "text": [
            "--2023-12-01 12:41:37--  http://files.grouplens.org/datasets/movielens/ml-1m.zip\n",
            "Resolving files.grouplens.org (files.grouplens.org)... 128.101.65.152\n",
            "Connecting to files.grouplens.org (files.grouplens.org)|128.101.65.152|:80... connected.\n",
            "HTTP request sent, awaiting response... 200 OK\n",
            "Length: 5917549 (5.6M) [application/zip]\n",
            "Saving to: ‘ml-1m.zip’\n",
            "\n",
            "ml-1m.zip           100%[===================>]   5.64M  17.5MB/s    in 0.3s    \n",
            "\n",
            "2023-12-01 12:41:37 (17.5 MB/s) - ‘ml-1m.zip’ saved [5917549/5917549]\n",
            "\n"
          ]
        }
      ]
    },
    {
      "cell_type": "code",
      "source": [
        "#Let's unpack the data and see how it's organized.\n",
        "\n",
        "with zipfile.ZipFile(\"ml-1m.zip\", \"r\") as z:\n",
        "    print(\"files in archive\")\n",
        "    print(z.namelist())\n",
        "    print(\"movies\")\n",
        "    with z.open(\"ml-1m/movies.dat\") as m:\n",
        "        print(str(m.readline()).split(\"::\"))\n",
        "    print(\"users\")\n",
        "    with z.open(\"ml-1m/users.dat\") as m:\n",
        "        print(str(m.readline()).split(\"::\"))\n",
        "    print(\"ratings\")\n",
        "    with z.open(\"ml-1m/ratings.dat\") as m:\n",
        "        print(str(m.readline()).split(\"::\"))"
      ],
      "metadata": {
        "colab": {
          "base_uri": "https://localhost:8080/"
        },
        "id": "90ebqoV1fW4G",
        "outputId": "47c15c65-e913-4680-8c29-901dca666f7e"
      },
      "execution_count": 3,
      "outputs": [
        {
          "output_type": "stream",
          "name": "stdout",
          "text": [
            "files in archive\n",
            "['ml-1m/', 'ml-1m/movies.dat', 'ml-1m/ratings.dat', 'ml-1m/README', 'ml-1m/users.dat']\n",
            "movies\n",
            "['b\"1', 'Toy Story (1995)', 'Animation|Children\\'s|Comedy\\\\n\"']\n",
            "users\n",
            "[\"b'1\", 'F', '1', '10', \"48067\\\\n'\"]\n",
            "ratings\n",
            "[\"b'1\", '1193', '5', \"978300760\\\\n'\"]\n"
          ]
        }
      ]
    },
    {
      "cell_type": "code",
      "source": [
        "with zipfile.ZipFile(\"ml-1m.zip\", 'r') as zip:\n",
        "    file_content = zip.read('ml-1m/README')\n",
        "    decoded_content = file_content.decode('utf-8')  # Decode the content assuming it's in UTF-8\n",
        "\n",
        "    # Replace single newlines with a special token\n",
        "    content_with_token = decoded_content.replace('\\n', '||NEWLINE||')\n",
        "\n",
        "    # Replace double newlines with spaces\n",
        "    formatted_content = ' '.join(para.strip() for para in content_with_token.split('\\n\\n'))\n",
        "\n",
        "    # Restore single newlines\n",
        "    formatted_content = formatted_content.replace('||NEWLINE||', '\\n')\n",
        "\n",
        "    print(formatted_content)"
      ],
      "metadata": {
        "colab": {
          "base_uri": "https://localhost:8080/"
        },
        "id": "5Cft5p_jgoLr",
        "outputId": "94926964-93b5-4737-976e-5509717720ab"
      },
      "execution_count": null,
      "outputs": [
        {
          "output_type": "stream",
          "name": "stdout",
          "text": [
            "SUMMARY\n",
            "================================================================================\n",
            "\n",
            "These files contain 1,000,209 anonymous ratings of approximately 3,900 movies \n",
            "made by 6,040 MovieLens users who joined MovieLens in 2000.\n",
            "\n",
            "USAGE LICENSE\n",
            "================================================================================\n",
            "\n",
            "Neither the University of Minnesota nor any of the researchers\n",
            "involved can guarantee the correctness of the data, its suitability\n",
            "for any particular purpose, or the validity of results based on the\n",
            "use of the data set.  The data set may be used for any research\n",
            "purposes under the following conditions:\n",
            "\n",
            "     * The user may not state or imply any endorsement from the\n",
            "       University of Minnesota or the GroupLens Research Group.\n",
            "\n",
            "     * The user must acknowledge the use of the data set in\n",
            "       publications resulting from the use of the data set\n",
            "       (see below for citation information).\n",
            "\n",
            "     * The user may not redistribute the data without separate\n",
            "       permission.\n",
            "\n",
            "     * The user may not use this information for any commercial or\n",
            "       revenue-bearing purposes without first obtaining permission\n",
            "       from a faculty member of the GroupLens Research Project at the\n",
            "       University of Minnesota.\n",
            "\n",
            "If you have any further questions or comments, please contact GroupLens\n",
            "<grouplens-info@cs.umn.edu>. \n",
            "\n",
            "CITATION\n",
            "================================================================================\n",
            "\n",
            "To acknowledge use of the dataset in publications, please cite the following\n",
            "paper:\n",
            "\n",
            "F. Maxwell Harper and Joseph A. Konstan. 2015. The MovieLens Datasets: History\n",
            "and Context. ACM Transactions on Interactive Intelligent Systems (TiiS) 5, 4,\n",
            "Article 19 (December 2015), 19 pages. DOI=http://dx.doi.org/10.1145/2827872\n",
            "\n",
            "\n",
            "ACKNOWLEDGEMENTS\n",
            "================================================================================\n",
            "\n",
            "Thanks to Shyong Lam and Jon Herlocker for cleaning up and generating the data\n",
            "set.\n",
            "\n",
            "FURTHER INFORMATION ABOUT THE GROUPLENS RESEARCH PROJECT\n",
            "================================================================================\n",
            "\n",
            "The GroupLens Research Project is a research group in the Department of \n",
            "Computer Science and Engineering at the University of Minnesota. Members of \n",
            "the GroupLens Research Project are involved in many research projects related \n",
            "to the fields of information filtering, collaborative filtering, and \n",
            "recommender systems. The project is lead by professors John Riedl and Joseph \n",
            "Konstan. The project began to explore automated collaborative filtering in \n",
            "1992, but is most well known for its world wide trial of an automated \n",
            "collaborative filtering system for Usenet news in 1996. Since then the project \n",
            "has expanded its scope to research overall information filtering solutions, \n",
            "integrating in content-based methods as well as improving current collaborative \n",
            "filtering technology.\n",
            "\n",
            "Further information on the GroupLens Research project, including research \n",
            "publications, can be found at the following web site:\n",
            "        \n",
            "        http://www.grouplens.org/\n",
            "\n",
            "GroupLens Research currently operates a movie recommender based on \n",
            "collaborative filtering:\n",
            "\n",
            "        http://www.movielens.org/\n",
            "\n",
            "RATINGS FILE DESCRIPTION\n",
            "================================================================================\n",
            "\n",
            "All ratings are contained in the file \"ratings.dat\" and are in the\n",
            "following format:\n",
            "\n",
            "UserID::MovieID::Rating::Timestamp\n",
            "\n",
            "- UserIDs range between 1 and 6040 \n",
            "- MovieIDs range between 1 and 3952\n",
            "- Ratings are made on a 5-star scale (whole-star ratings only)\n",
            "- Timestamp is represented in seconds since the epoch as returned by time(2)\n",
            "- Each user has at least 20 ratings\n",
            "\n",
            "USERS FILE DESCRIPTION\n",
            "================================================================================\n",
            "\n",
            "User information is in the file \"users.dat\" and is in the following\n",
            "format:\n",
            "\n",
            "UserID::Gender::Age::Occupation::Zip-code\n",
            "\n",
            "All demographic information is provided voluntarily by the users and is\n",
            "not checked for accuracy.  Only users who have provided some demographic\n",
            "information are included in this data set.\n",
            "\n",
            "- Gender is denoted by a \"M\" for male and \"F\" for female\n",
            "- Age is chosen from the following ranges:\n",
            "\n",
            "\t*  1:  \"Under 18\"\n",
            "\t* 18:  \"18-24\"\n",
            "\t* 25:  \"25-34\"\n",
            "\t* 35:  \"35-44\"\n",
            "\t* 45:  \"45-49\"\n",
            "\t* 50:  \"50-55\"\n",
            "\t* 56:  \"56+\"\n",
            "\n",
            "- Occupation is chosen from the following choices:\n",
            "\n",
            "\t*  0:  \"other\" or not specified\n",
            "\t*  1:  \"academic/educator\"\n",
            "\t*  2:  \"artist\"\n",
            "\t*  3:  \"clerical/admin\"\n",
            "\t*  4:  \"college/grad student\"\n",
            "\t*  5:  \"customer service\"\n",
            "\t*  6:  \"doctor/health care\"\n",
            "\t*  7:  \"executive/managerial\"\n",
            "\t*  8:  \"farmer\"\n",
            "\t*  9:  \"homemaker\"\n",
            "\t* 10:  \"K-12 student\"\n",
            "\t* 11:  \"lawyer\"\n",
            "\t* 12:  \"programmer\"\n",
            "\t* 13:  \"retired\"\n",
            "\t* 14:  \"sales/marketing\"\n",
            "\t* 15:  \"scientist\"\n",
            "\t* 16:  \"self-employed\"\n",
            "\t* 17:  \"technician/engineer\"\n",
            "\t* 18:  \"tradesman/craftsman\"\n",
            "\t* 19:  \"unemployed\"\n",
            "\t* 20:  \"writer\"\n",
            "\n",
            "MOVIES FILE DESCRIPTION\n",
            "================================================================================\n",
            "\n",
            "Movie information is in the file \"movies.dat\" and is in the following\n",
            "format:\n",
            "\n",
            "MovieID::Title::Genres\n",
            "\n",
            "- Titles are identical to titles provided by the IMDB (including\n",
            "year of release)\n",
            "- Genres are pipe-separated and are selected from the following genres:\n",
            "\n",
            "\t* Action\n",
            "\t* Adventure\n",
            "\t* Animation\n",
            "\t* Children's\n",
            "\t* Comedy\n",
            "\t* Crime\n",
            "\t* Documentary\n",
            "\t* Drama\n",
            "\t* Fantasy\n",
            "\t* Film-Noir\n",
            "\t* Horror\n",
            "\t* Musical\n",
            "\t* Mystery\n",
            "\t* Romance\n",
            "\t* Sci-Fi\n",
            "\t* Thriller\n",
            "\t* War\n",
            "\t* Western\n",
            "\n",
            "- Some MovieIDs do not correspond to a movie due to accidental duplicate\n",
            "entries and/or test entries\n",
            "- Movies are mostly entered by hand, so errors and inconsistencies may exist\n",
            "\n"
          ]
        }
      ]
    },
    {
      "cell_type": "markdown",
      "source": [
        "We can see that the archive contains information about movies.\n",
        "This is the movieId of the movie, title and genre.\n",
        "About users we know userId, gender (F, M), age, coded employment information and zip-code.\n",
        "And the rating information:\n",
        "userId, movieId, rating and the moment in time when the rating was made.\n",
        "Let's read the data."
      ],
      "metadata": {
        "id": "dLa8mBZxqLDm"
      }
    },
    {
      "cell_type": "code",
      "source": [
        "# read data\n",
        "movies = {} # id\n",
        "users = {} # id\n",
        "ratings = defaultdict(list) # user-id\n",
        "\n",
        "with zipfile.ZipFile(\"ml-1m.zip\", \"r\") as z:\n",
        "    # parse movies\n",
        "    with z.open(\"ml-1m/movies.dat\") as m:\n",
        "        for line in m:\n",
        "            MovieID, Title, Genres = line.decode('iso-8859-1').strip().split(\"::\")\n",
        "            MovieID = int(MovieID)\n",
        "            Genres = Genres.split(\"|\")\n",
        "            movies[MovieID] = {\"Title\": Title, \"Genres\": Genres}\n",
        "\n",
        "    # parse users\n",
        "    with z.open(\"ml-1m/users.dat\") as m:\n",
        "        fields = [\"UserID\", \"Gender\", \"Age\", \"Occupation\", \"Zip-code\"]\n",
        "        for line in m:\n",
        "            row = list(zip(fields, line.decode('iso-8859-1').strip().split(\"::\")))\n",
        "            data = dict(row[1:])\n",
        "            data[\"Occupation\"] = int(data[\"Occupation\"])\n",
        "            users[int(row[0][1])] = data\n",
        "\n",
        "    # parse ratings\n",
        "    with z.open(\"ml-1m/ratings.dat\") as m:\n",
        "        for line in m:\n",
        "            UserID, MovieID, Rating, Timestamp = line.decode('iso-8859-1').strip().split(\"::\")\n",
        "            UserID = int(UserID)\n",
        "            MovieID = int(MovieID)\n",
        "            Rating = int(Rating)\n",
        "            Timestamp = int(Timestamp)\n",
        "            ratings[UserID].append((MovieID, Rating, datetime.datetime.fromtimestamp(Timestamp)))"
      ],
      "metadata": {
        "id": "kG2GJ6eiqajV"
      },
      "execution_count": 4,
      "outputs": []
    },
    {
      "cell_type": "code",
      "source": [
        "len(users), len(ratings), len(movies)"
      ],
      "metadata": {
        "id": "0hERone1uP0f",
        "colab": {
          "base_uri": "https://localhost:8080/"
        },
        "outputId": "ecf3e5dd-9d10-4e40-c95e-3946e953393a"
      },
      "execution_count": 5,
      "outputs": [
        {
          "output_type": "execute_result",
          "data": {
            "text/plain": [
              "(6040, 6040, 3883)"
            ]
          },
          "metadata": {},
          "execution_count": 5
        }
      ]
    },
    {
      "cell_type": "markdown",
      "source": [
        "Now let's split the data into training and test samples\n",
        "We will split the ratings by time.\n",
        "First, let's find the date on which 80% of the ratings were set in the dataset.\n",
        "![FormulaRidge.jpg](data:image/jpeg;base64,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)And all the ratings that were before will go to train, and the rest to test."
      ],
      "metadata": {
        "id": "OnrQ_0EcZ-33"
      }
    },
    {
      "cell_type": "code",
      "source": [
        "times = []\n",
        "for user_ratings in ratings.values():\n",
        "    times.extend([x[2] for x in user_ratings])\n",
        "times = sorted(times)\n",
        "\n",
        "threshold_time = times[int(0.8 * len(times))]\n",
        "threshold_time"
      ],
      "metadata": {
        "colab": {
          "base_uri": "https://localhost:8080/"
        },
        "id": "IpP8UD6SZ4kr",
        "outputId": "9a920d70-265a-4ee3-bfc2-e13ba802ca09"
      },
      "execution_count": 6,
      "outputs": [
        {
          "output_type": "execute_result",
          "data": {
            "text/plain": [
              "datetime.datetime(2000, 12, 2, 14, 52, 18)"
            ]
          },
          "metadata": {},
          "execution_count": 6
        }
      ]
    },
    {
      "cell_type": "code",
      "source": [
        "train = []\n",
        "test = []\n",
        "\n",
        "for user_id, user_ratings in ratings.items():\n",
        "    train.extend((user_id, rating[0], rating[1] / 5.0) for rating in user_ratings if rating[2] <= threshold_time)\n",
        "    test.extend((user_id, rating[0], rating[1] / 5.0) for rating in user_ratings if rating[2] > threshold_time)\n",
        "print(\"ratings in train:\", len(train))\n",
        "print(\"ratings in test:\", len(test))"
      ],
      "metadata": {
        "colab": {
          "base_uri": "https://localhost:8080/"
        },
        "id": "SuhTyWqqaFnN",
        "outputId": "5280531d-f650-457e-ec7c-8f227ff46294"
      },
      "execution_count": 7,
      "outputs": [
        {
          "output_type": "stream",
          "name": "stdout",
          "text": [
            "ratings in train: 800168\n",
            "ratings in test: 200041\n"
          ]
        }
      ]
    },
    {
      "cell_type": "code",
      "source": [
        "train_by_user = defaultdict(list)\n",
        "test_by_user = defaultdict(list)\n",
        "for u, i, r in train:\n",
        "    train_by_user[u].append((i, r))\n",
        "for u, i, r in test:\n",
        "    test_by_user[u].append((i, r))\n",
        "\n",
        "train_by_item = defaultdict(list)\n",
        "for u, i, r in train:\n",
        "    train_by_item[i].append((u, r))"
      ],
      "metadata": {
        "id": "du0B5fNpaQ9M"
      },
      "execution_count": 8,
      "outputs": []
    },
    {
      "cell_type": "code",
      "source": [
        "#Let's count the number of users and movies\n",
        "\n",
        "n_users = max([e[0] for e in train]) + 1\n",
        "n_items = max([e[1] for e in train]) + 1\n",
        "n_users, n_items"
      ],
      "metadata": {
        "colab": {
          "base_uri": "https://localhost:8080/"
        },
        "id": "HxKS1muUaVTn",
        "outputId": "d57d359d-c1b5-4b90-a44f-0cba979b7b9d"
      },
      "execution_count": 9,
      "outputs": [
        {
          "output_type": "execute_result",
          "data": {
            "text/plain": [
              "(6041, 3953)"
            ]
          },
          "metadata": {},
          "execution_count": 9
        }
      ]
    },
    {
      "cell_type": "code",
      "source": [
        "np.random.seed(0)\n",
        "LATENT_SIZE = 10\n",
        "N_ITER = 20\n",
        "\n",
        "# regularizers\n",
        "lambda_p = 0.2\n",
        "lambda_q = 0.001\n",
        "\n",
        "# latent representations\n",
        "p = 0.1 * np.random.random((n_users, LATENT_SIZE))\n",
        "q = 0.1 * np.random.random((n_items, LATENT_SIZE))\n"
      ],
      "metadata": {
        "id": "eKMvmC_aag1_"
      },
      "execution_count": 10,
      "outputs": []
    },
    {
      "cell_type": "markdown",
      "source": [
        "In this approach, the score $r_{ui}$ of user $u$ given to movie $i$,\n",
        "\n",
        "is sought as the scalar product of vectors $p_u$ and $q_i$ in some space $\\mathbb{R}^K$ of latent features:\n",
        "\n",
        "$$\n",
        "\t\\hat{r}_{ui} = p_u^T q_i\n",
        "$$\n",
        "\n",
        "\n",
        "In other words, the model finds a feature space in which we describe both movies and users and in which the rating is a measure of the closeness between movies and users.\n",
        "\n",
        "To tune the model, we will minimize the following error:\n",
        "\t$$\n",
        "\t\\sum_{(u, i, r_{ui})} (r_{ui} - p_u^T q_i)^2 + \\lambda_{p} p_u^T p_u + \\lambda_{q} q_i^T q_i,\n",
        "\t$$\n",
        "\twhere the summation is over all triples $(u, i, r_{ui})$ of the sample, the summands with $\\lambda_{p}$ and $\\lambda_{q}$ are added for regularization.\n",
        "\n",
        "Now let us make a matrix $P$ from vectors $p_u$ and a matrix $Q$ from vectors $q_i$. By matrix $Q[u] \\in \\mathbb{R}^{n_u \\times K}$ we denote the submatrix of matrix $Q$ only for goods evaluated by user $u$, where $n_u$ is the number of evaluations of user $u$.\n",
        "\n",
        "The reconfiguration step $p_u$ for a fixed matrix $Q$ reduces to the ridge regression setup and looks like this:\n",
        "\t$$\n",
        "\tA_u = Q[u]^T Q[u] \\\\\\\\\n",
        "\td_u = Q[u]^T r_u \\\\\\\n",
        "\tp_u = (\\lambda_p n_u I + A_u)^{-1} d_u\n",
        "\t$$"
      ],
      "metadata": {
        "id": "WDhdUqRif_17"
      }
    },
    {
      "cell_type": "code",
      "source": [],
      "metadata": {
        "id": "Mu0SExR9anlt"
      },
      "execution_count": null,
      "outputs": []
    }
  ]
}